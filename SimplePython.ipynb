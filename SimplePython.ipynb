{
 "cells": [
  {
   "cell_type": "code",
   "execution_count": 6,
   "metadata": {},
   "outputs": [],
   "source": [
    "def greet_user(greeting):\n",
    "     print(greeting)"
   ]
  },
  {
   "cell_type": "code",
   "execution_count": 7,
   "metadata": {},
   "outputs": [
    {
     "name": "stdout",
     "output_type": "stream",
     "text": [
      "The name of the husband and wife are Mr.Peter and Mrs.Zelda\n"
     ]
    }
   ],
   "source": [
    "def variable_name(wife_name= \"Zelda\",husband_name= \"Peter\"):\n",
    "    print(\"The name of the husband and wife are Mr.\"+ husband_name +\" and Mrs.\"+wife_name)\n",
    "variable_name()\n"
   ]
  },
  {
   "cell_type": "code",
   "execution_count": 3,
   "metadata": {},
   "outputs": [
    {
     "name": "stdout",
     "output_type": "stream",
     "text": [
      "The winner of the game is Australian team \n",
      "The score made by two team are 0-1\n",
      "the audience was very energetic\n"
     ]
    }
   ],
   "source": [
    "def alphabets(winner,score,other_function):\n",
    "    print(\"The winner of the game is \"+ winner +\" team \")\n",
    "    print(\"The score made by two team are \"+score)\n",
    "    print(\"the audience was very \"+ other_function)\n",
    "\n",
    "alphabets(\"Australian\",\"0-1\",\"energetic\")"
   ]
  },
  {
   "cell_type": "code",
   "execution_count": 27,
   "metadata": {},
   "outputs": [],
   "source": [
    "# def calculation():\n",
    "#     y = 1\n",
    "#     print(y)\n",
    "#     y = 2\n",
    "#     whatever(2)\n",
    "#     print(y)\n",
    "# calculation()"
   ]
  },
  {
   "cell_type": "code",
   "execution_count": 31,
   "metadata": {},
   "outputs": [
    {
     "name": "stdout",
     "output_type": "stream",
     "text": [
      "I have a rabbit pet\n",
      "And its name is Hazle\n"
     ]
    }
   ],
   "source": [
    "def definition_animal(animal_type= \"rabbit\",describe_animal= \"Hazle\"):\n",
    "    print(\"I have a \"+ animal_type + \" pet\")\n",
    "    print(\"And its name is \"+ describe_animal )\n",
    "definition_animal()\n",
    "    "
   ]
  },
  {
   "cell_type": "code",
   "execution_count": 32,
   "metadata": {},
   "outputs": [
    {
     "name": "stdout",
     "output_type": "stream",
     "text": [
      "My animal name is Wood\n",
      "And it is a cat\n"
     ]
    }
   ],
   "source": [
    "def animal_cast(animal_type,define_animal= \"Wood\"):\n",
    "    print(\"My animal name is \"+ define_animal )\n",
    "    print(\"And it is a \"+ animal_type)\n",
    "animal_cast(animal_type= \"cat\")"
   ]
  },
  {
   "cell_type": "code",
   "execution_count": 35,
   "metadata": {},
   "outputs": [
    {
     "name": "stdout",
     "output_type": "stream",
     "text": [
      "\n",
      "I have a cat.\n",
      "My cat's name is Bouce.\n"
     ]
    }
   ],
   "source": [
    "def describe_pet(animal_type, pet_name):\n",
    "# \"\"\"Display information about a pet.\"\"\"\n",
    "    print(\"\\nI have a \" + animal_type + \".\")\n",
    "    print(\"My \" + animal_type + \"'s name is \" + pet_name.title() + \".\")\n",
    "describe_pet(\"cat\",\"bouce\")"
   ]
  },
  {
   "cell_type": "code",
   "execution_count": 43,
   "metadata": {},
   "outputs": [
    {
     "name": "stdout",
     "output_type": "stream",
     "text": [
      "The capital of Pakistan is Islamabad\n"
     ]
    }
   ],
   "source": [
    "def describe_city(country,city= \"Islamabad\"):\n",
    "    print(\"The capital of \"+ country +\" is \"+city)\n",
    "describe_city(country=\"Pakistan\")"
   ]
  },
  {
   "cell_type": "code",
   "execution_count": 51,
   "metadata": {},
   "outputs": [
    {
     "data": {
      "text/plain": [
       "'Muhammad Hassan  '"
      ]
     },
     "execution_count": 51,
     "metadata": {},
     "output_type": "execute_result"
    }
   ],
   "source": [
    "def formatted_name(first_name,last_name,middle_name= ''):\n",
    "    if middle_name:\n",
    "        full_name = first_name + middle_name + last_name\n",
    "    else:\n",
    "        full_name = first_name + last_name\n",
    "    return full_name\n",
    "formatted_name(\"Muhammad\",\" \",\" Hassan \")"
   ]
  },
  {
   "cell_type": "code",
   "execution_count": 6,
   "metadata": {},
   "outputs": [
    {
     "name": "stdout",
     "output_type": "stream",
     "text": [
      "It is a Germandog\n",
      "None\n",
      "The name of my pet is Frenchies dog \n",
      "None\n"
     ]
    }
   ],
   "source": [
    "class Dog():\n",
    "    def __init__(self, name , breed):\n",
    "        self.name = name\n",
    "        self.breed = breed\n",
    "        \n",
    "    def called(self):\n",
    "        print(\"The name of my pet is \"+ self.name +\" dog \")\n",
    "        \n",
    "    def type_breed(self):\n",
    "        message = print(\"It is a \"+ self.breed +\"dog\")\n",
    "                        \n",
    "nick = Dog(\"Frenchies\",\"German\")\n",
    "print(nick.type_breed())\n",
    "print(nick.called())\n",
    "\n",
    "      "
   ]
  },
  {
   "cell_type": "code",
   "execution_count": 1,
   "metadata": {},
   "outputs": [],
   "source": [
    "class Car():\n",
    "    def __init__(self , brand , model,used):\n",
    "        self.brand = brand\n",
    "        self.model = model\n",
    "        self.used = 0\n",
    "        \n",
    "    def fnc_01(self):\n",
    "        print(\"My car brand is \"+ self.brand)\n",
    "        \n",
    "    def fnc_02(self):\n",
    "        print(\"My car model is of \"+ self.model)\n",
    "        \n",
    "    def fnc_03(self):\n",
    "        print(\"My car used is about \"+ self.used)\n",
    "        \n",
    "var1 = Car(\"Toyota\",2009,0)\n",
    "print(var1.fnc_01())\n",
    "print((var1.fnc_03()))"
   ]
  },
  {
   "cell_type": "code",
   "execution_count": 4,
   "metadata": {},
   "outputs": [
    {
     "name": "stdout",
     "output_type": "stream",
     "text": [
      "My dog name is Scooby\n",
      "My dog name is Fred\n"
     ]
    }
   ],
   "source": [
    "class Dog():\n",
    "    def __init__(self,name,color):\n",
    "        self.name = name\n",
    "        self.color = color\n",
    "    \n",
    "    def dog_name(self):\n",
    "        print(\"My dog name is \"+self.name)\n",
    "    def dog_color(self):\n",
    "        print(\"My dog colour is \"+ self.color)\n",
    "        \n",
    "my_dog = Dog(\"Scooby\",\"brown\")\n",
    "my_dog2 = Dog(\"Fred\",\"white\")\n",
    "my_dog.dog_name()\n",
    "my_dog2.dog_name()"
   ]
  },
  {
   "cell_type": "code",
   "execution_count": 6,
   "metadata": {},
   "outputs": [
    {
     "name": "stdout",
     "output_type": "stream",
     "text": [
      "Car specification Civic 2017 black 1200 toyota\n"
     ]
    }
   ],
   "source": [
    "class Car():\n",
    "    def __init__(self,car,model,colour,cc,brand):\n",
    "        self.car = car\n",
    "        self.model  = model\n",
    "        self.colour = colour\n",
    "        self.cc = cc\n",
    "        self.brand = brand\n",
    "    \n",
    "    def car_definition(self):\n",
    "        print(\"Car specification \"+ self.car +\" \"+ str(self.model) +\" \"+ self.colour +\" \"+ str(self.cc) +\" \" +self.brand)\n",
    "        \n",
    "car_details = Car(\"Civic\",2017,\"black\",1200,\"toyota\")\n",
    "car_details.car_definition()"
   ]
  },
  {
   "cell_type": "code",
   "execution_count": 9,
   "metadata": {},
   "outputs": [
    {
     "name": "stdout",
     "output_type": "stream",
     "text": [
      "Car Details = mehran 2005 suzuki\n",
      "The readind of my car's odometer is 23\n"
     ]
    }
   ],
   "source": [
    "class Car():\n",
    "    def __init__(self,car,model,brand):\n",
    "        self.car = car\n",
    "        self.model = model\n",
    "        self.brand = brand\n",
    "        self.odometer = 23\n",
    "        \n",
    "    def car_definition(self):\n",
    "        print(\"Car Details = \" + self.car +\" \"+ str(self.model)+ \" \" + self.brand)\n",
    "    def car_odometer(self):\n",
    "        print(\"The readind of my car's odometer is \"+ str(self.odometer))\n",
    "        \n",
    "car_property = Car(\"mehran\",2005,\"suzuki\")\n",
    "car_property.car_definition()\n",
    "car_property.car_odometer()\n",
    "        "
   ]
  },
  {
   "cell_type": "code",
   "execution_count": 21,
   "metadata": {},
   "outputs": [
    {
     "name": "stdout",
     "output_type": "stream",
     "text": [
      "Car Details = mehran 2005 suzuki\n",
      "The readind of my car's odometer is 23\n"
     ]
    }
   ],
   "source": [
    "class Car():\n",
    "    def __init__(self,car,model,brand):\n",
    "        self.car = car\n",
    "        self.model = model\n",
    "        self.brand = brand\n",
    "        \n",
    "    def car_definition(self):\n",
    "        print(\"Car Details = \" + self.car +\" \"+ str(self.model)+ \" \" + self.brand)\n",
    "    def car_odometer(self,mileage):\n",
    "        print(\"The readind of my car's odometer is \"+ str(mileage))\n",
    "        \n",
    "car_property = Car(\"mehran\",2005,\"suzuki\")\n",
    "car_property.car_definition()\n",
    "car_property.car_odometer(23)\n",
    "        "
   ]
  },
  {
   "cell_type": "code",
   "execution_count": 3,
   "metadata": {},
   "outputs": [
    {
     "ename": "TypeError",
     "evalue": "Car() takes 0 positional arguments but 3 were given",
     "output_type": "error",
     "traceback": [
      "\u001b[1;31m---------------------------------------------------------------------------\u001b[0m",
      "\u001b[1;31mTypeError\u001b[0m                                 Traceback (most recent call last)",
      "\u001b[1;32m<ipython-input-3-81a24a2f4091>\u001b[0m in \u001b[0;36m<module>\u001b[1;34m\u001b[0m\n\u001b[0;32m     16\u001b[0m             \u001b[0mprint\u001b[0m\u001b[1;33m(\u001b[0m\u001b[1;34m\"The increased value of reading is \"\u001b[0m\u001b[1;33m+\u001b[0m\u001b[0mmileage\u001b[0m \u001b[1;33m)\u001b[0m\u001b[1;33m\u001b[0m\u001b[1;33m\u001b[0m\u001b[0m\n\u001b[0;32m     17\u001b[0m \u001b[1;33m\u001b[0m\u001b[0m\n\u001b[1;32m---> 18\u001b[1;33m \u001b[0mreading\u001b[0m \u001b[1;33m=\u001b[0m \u001b[0mCar\u001b[0m\u001b[1;33m(\u001b[0m\u001b[1;34m\"prado\"\u001b[0m\u001b[1;33m,\u001b[0m\u001b[1;36m2018\u001b[0m\u001b[1;33m,\u001b[0m\u001b[1;34m\"suzuki\"\u001b[0m\u001b[1;33m)\u001b[0m\u001b[1;33m\u001b[0m\u001b[1;33m\u001b[0m\u001b[0m\n\u001b[0m\u001b[0;32m     19\u001b[0m \u001b[0mreading\u001b[0m\u001b[1;33m.\u001b[0m\u001b[0mcar_properties\u001b[0m\u001b[1;33m(\u001b[0m\u001b[1;33m)\u001b[0m\u001b[1;33m\u001b[0m\u001b[1;33m\u001b[0m\u001b[0m\n",
      "\u001b[1;31mTypeError\u001b[0m: Car() takes 0 positional arguments but 3 were given"
     ]
    }
   ],
   "source": [
    "def Car():\n",
    "    def __init__(self,car,model,brand):\n",
    "        self.car = car\n",
    "        self.model = model\n",
    "        self.brand = brand\n",
    "        self.odometer = 0\n",
    "        \n",
    "    def car_properties(self):\n",
    "        print(\"The Car is of \"+ self.car + str(self.model) + self.brand )\n",
    "        \n",
    "    def odometer(self):\n",
    "        print(\"My brand new car has \"+ str( self.odometer) +\"reading .\" )\n",
    "        \n",
    "    def change_reading(self,mileage):\n",
    "        if (mileage > self.odometer):\n",
    "            self.mileage = mileage\n",
    "            print(\"The increased value of reading is \"+self.mileage )\n",
    "            \n",
    "reading = Car(\"prado\",2018,\"suzuki\")\n",
    "reading.car_properties()\n"
   ]
  },
  {
   "cell_type": "code",
   "execution_count": 11,
   "metadata": {},
   "outputs": [
    {
     "name": "stdout",
     "output_type": "stream",
     "text": [
      "<bound method Car.get_descriptive_name of <__main__.Car object at 0x00000277EAE118D0>>\n"
     ]
    }
   ],
   "source": [
    "class Car():\n",
    "        def __init__(self,brand,model,year):\n",
    "            self.brand = brand\n",
    "            self.model = model\n",
    "            self.year = year\n",
    "\n",
    "        def get_descriptive_name(self):\n",
    "            print(\"the car is of\"+ self.brand +\"model\"+str(self.model)+\"of year\"+self.year)\n",
    "\n",
    "car1 = Car(1666,\"toyota\",1999)\n",
    "print(car1.get_descriptive_name)\n"
   ]
  },
  {
   "cell_type": "code",
   "execution_count": 3,
   "metadata": {},
   "outputs": [
    {
     "name": "stdout",
     "output_type": "stream",
     "text": [
      "[0 1 2 3 4 5]\n"
     ]
    }
   ],
   "source": [
    "import numpy as np\n",
    "data = [0,1,2,3,4,5]\n",
    "data1 = np.array(data)\n",
    "print(data1)"
   ]
  },
  {
   "cell_type": "code",
   "execution_count": 13,
   "metadata": {},
   "outputs": [
    {
     "name": "stdout",
     "output_type": "stream",
     "text": [
      "[False  True False False]\n"
     ]
    }
   ],
   "source": [
    "import numpy as np\n",
    "data = ['bob','tom','jess','charles']\n",
    "data2 = np.array(data)\n",
    "print(data2 == 'tom')"
   ]
  },
  {
   "cell_type": "code",
   "execution_count": 11,
   "metadata": {},
   "outputs": [
    {
     "name": "stdout",
     "output_type": "stream",
     "text": [
      "[ True False False  True False False]\n"
     ]
    }
   ],
   "source": [
    "import numpy as np\n",
    "\n",
    "A = np.array([4, 7, 3, 4, 2, 8])\n",
    "\n",
    "print(A == 4)"
   ]
  },
  {
   "cell_type": "code",
   "execution_count": null,
   "metadata": {},
   "outputs": [],
   "source": []
  }
 ],
 "metadata": {
  "kernelspec": {
   "display_name": "Python 3",
   "language": "python",
   "name": "python3"
  },
  "language_info": {
   "codemirror_mode": {
    "name": "ipython",
    "version": 3
   },
   "file_extension": ".py",
   "mimetype": "text/x-python",
   "name": "python",
   "nbconvert_exporter": "python",
   "pygments_lexer": "ipython3",
   "version": "3.7.3"
  }
 },
 "nbformat": 4,
 "nbformat_minor": 2
}
